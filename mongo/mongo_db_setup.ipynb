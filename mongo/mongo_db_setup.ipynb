{
  "nbformat": 4,
  "nbformat_minor": 0,
  "metadata": {
    "colab": {
      "name": "mongo-db-setup.ipynb",
      "provenance": []
    },
    "kernelspec": {
      "name": "python3",
      "display_name": "Python 3"
    },
    "language_info": {
      "name": "python"
    }
  },
  "cells": [
    {
      "cell_type": "markdown",
      "metadata": {
        "id": "TCjw9msZ-1Lc"
      },
      "source": [
        "## Installing MongoDB in a Google Colab Environment\n",
        "\n",
        "This will work on an Ubuntu system too, but there we recommend using a Docker container to host MongoDB, rather than installing it directly in the OS.\n",
        "\n",
        "Hit Ctrl+Spacebar to autocomplete or show options for your code (e.g. `client.`, hit key combination and it will give you the options)"
      ]
    },
    {
      "cell_type": "code",
      "metadata": {
        "colab": {
          "base_uri": "https://localhost:8080/"
        },
        "id": "TrHe49GHJW55",
        "outputId": "e9e2184e-7f2c-4383-a8eb-221a081516e6"
      },
      "source": [
        "# MongoDB download and installation\n",
        "!wget https://fastdl.mongodb.org/linux/mongodb-linux-x86_64-amazon2023-8.0.1.tgz\n",
        "!tar xfv mongodb-linux-x86_64-amazon2023-8.0.1.tgz     # Unpack compressed file\n",
        "!rm mongodb-linux-x86_64-amazon2023-8.0.1.tgz          # Removes downloaded file\n",
        "\n",
        "# Default location of database is \"/data/db\" folder\n",
        "!mkdir /data                                          # data folder creation\n",
        "!mkdir /data/db                                       # db folder creation inside data"
      ],
      "execution_count": 1,
      "outputs": [
        {
          "output_type": "stream",
          "name": "stdout",
          "text": [
            "--2024-10-10 20:48:29--  https://fastdl.mongodb.org/linux/mongodb-linux-x86_64-amazon2023-8.0.1.tgz\n",
            "Resolving fastdl.mongodb.org (fastdl.mongodb.org)... 13.35.35.29, 13.35.35.2, 13.35.35.75, ...\n",
            "Connecting to fastdl.mongodb.org (fastdl.mongodb.org)|13.35.35.29|:443... connected.\n",
            "HTTP request sent, awaiting response... 200 OK\n",
            "Length: 98876392 (94M) [application/gzip]\n",
            "Saving to: ‘mongodb-linux-x86_64-amazon2023-8.0.1.tgz’\n",
            "\n",
            "mongodb-linux-x86_6 100%[===================>]  94.29M  22.4MB/s    in 5.3s    \n",
            "\n",
            "2024-10-10 20:48:34 (17.7 MB/s) - ‘mongodb-linux-x86_64-amazon2023-8.0.1.tgz’ saved [98876392/98876392]\n",
            "\n",
            "mongodb-linux-x86_64-amazon2023-8.0.1/LICENSE-Community.txt\n",
            "mongodb-linux-x86_64-amazon2023-8.0.1/MPL-2\n",
            "mongodb-linux-x86_64-amazon2023-8.0.1/README\n",
            "mongodb-linux-x86_64-amazon2023-8.0.1/THIRD-PARTY-NOTICES\n",
            "mongodb-linux-x86_64-amazon2023-8.0.1/bin/install_compass\n",
            "mongodb-linux-x86_64-amazon2023-8.0.1/bin/mongod\n",
            "mongodb-linux-x86_64-amazon2023-8.0.1/bin/mongos\n"
          ]
        }
      ]
    },
    {
      "cell_type": "code",
      "metadata": {
        "colab": {
          "base_uri": "https://localhost:8080/"
        },
        "id": "H8D6GlDXbAlx",
        "outputId": "3b905e4b-52ad-4701-c9f0-6f52cd3695fe"
      },
      "source": [
        "# start  mongo\n",
        "!mongodb-linux-x86_64-amazon2023-8.0.1/bin/mongod --port 27017 --dbpath=/data/db --fork --logpath=/data/db/mongodb.log\n"
      ],
      "execution_count": 4,
      "outputs": [
        {
          "output_type": "stream",
          "name": "stdout",
          "text": [
            "about to fork child process, waiting until server is ready for connections.\n",
            "forked process: 625\n",
            "child process started successfully, parent exiting\n"
          ]
        }
      ]
    },
    {
      "cell_type": "code",
      "metadata": {
        "id": "-7SBAbymYMvg",
        "outputId": "8f206115-7537-45aa-aca0-b16e772d5f11",
        "colab": {
          "base_uri": "https://localhost:8080/"
        }
      },
      "source": [
        "# install the pymongo packages.\n",
        "! pip install pymongo --quiet"
      ],
      "execution_count": 5,
      "outputs": [
        {
          "output_type": "stream",
          "name": "stdout",
          "text": [
            "\u001b[?25l   \u001b[90m━━━━━━━━━━━━━━━━━━━━━━━━━━━━━━━━━━━━━━━━\u001b[0m \u001b[32m0.0/1.4 MB\u001b[0m \u001b[31m?\u001b[0m eta \u001b[36m-:--:--\u001b[0m\r\u001b[2K   \u001b[91m━━━━━━━\u001b[0m\u001b[90m╺\u001b[0m\u001b[90m━━━━━━━━━━━━━━━━━━━━━━━━━━━━━━━━\u001b[0m \u001b[32m0.3/1.4 MB\u001b[0m \u001b[31m8.9 MB/s\u001b[0m eta \u001b[36m0:00:01\u001b[0m\r\u001b[2K   \u001b[91m━━━━━━━━━━━━━━━━━━━━━━━━━━━━━━━━━━━━━━━\u001b[0m\u001b[91m╸\u001b[0m \u001b[32m1.4/1.4 MB\u001b[0m \u001b[31m23.2 MB/s\u001b[0m eta \u001b[36m0:00:01\u001b[0m\r\u001b[2K   \u001b[90m━━━━━━━━━━━━━━━━━━━━━━━━━━━━━━━━━━━━━━━━\u001b[0m \u001b[32m1.4/1.4 MB\u001b[0m \u001b[31m17.8 MB/s\u001b[0m eta \u001b[36m0:00:00\u001b[0m\n",
            "\u001b[?25h\u001b[?25l   \u001b[90m━━━━━━━━━━━━━━━━━━━━━━━━━━━━━━━━━━━━━━━━\u001b[0m \u001b[32m0.0/313.6 kB\u001b[0m \u001b[31m?\u001b[0m eta \u001b[36m-:--:--\u001b[0m\r\u001b[2K   \u001b[90m━━━━━━━━━━━━━━━━━━━━━━━━━━━━━━━━━━━━━━━━\u001b[0m \u001b[32m313.6/313.6 kB\u001b[0m \u001b[31m21.8 MB/s\u001b[0m eta \u001b[36m0:00:00\u001b[0m\n",
            "\u001b[?25h"
          ]
        }
      ]
    },
    {
      "cell_type": "markdown",
      "metadata": {
        "id": "0Sf2LV_s_HSf"
      },
      "source": [
        "Demonstration of client accessing mongodb service."
      ]
    },
    {
      "cell_type": "code",
      "metadata": {
        "id": "G8y83nO_ZNzZ",
        "outputId": "37667394-503c-4e83-9103-9e48c9c4d889",
        "colab": {
          "base_uri": "https://localhost:8080/"
        }
      },
      "source": [
        "import pymongo\n",
        "\n",
        "# connect to localhost on default port 27017\n",
        "client = pymongo.MongoClient('127.0.0.1', 27017)\n",
        "\n",
        "# get/create a database with name `database_name`\n",
        "db = client['database_name']\n",
        "# get/create a collection in the database called `test_col`\n",
        "col = db.get_collection('test_col')\n",
        "\n",
        "\n",
        "d1 = ' the cat sat on the mat '\n",
        "d2 = ' the dog sat on the log '\n",
        "# insert two documents with <document_id, text>\n",
        "col.insert_one({'document_id': 'D1', 'text': d1})\n",
        "col.insert_one({'document_id': 'D2', 'text': d2})\n",
        "list(col.find({}))\n",
        "\n",
        "# teardown\n",
        "\n"
      ],
      "execution_count": 6,
      "outputs": [
        {
          "output_type": "execute_result",
          "data": {
            "text/plain": [
              "[{'_id': ObjectId('67083dfbb9ec19c5d203c9ae'),\n",
              "  'document_id': 'D1',\n",
              "  'text': ' the cat sat on the mat '},\n",
              " {'_id': ObjectId('67083dfbb9ec19c5d203c9af'),\n",
              "  'document_id': 'D2',\n",
              "  'text': ' the dog sat on the log '}]"
            ]
          },
          "metadata": {},
          "execution_count": 6
        }
      ]
    },
    {
      "cell_type": "code",
      "metadata": {
        "id": "KRT-I-2QAP7P"
      },
      "source": [
        "client.drop_database('database_name')"
      ],
      "execution_count": 7,
      "outputs": []
    },
    {
      "cell_type": "code",
      "source": [],
      "metadata": {
        "id": "NDReyTWHMiiD"
      },
      "execution_count": null,
      "outputs": []
    }
  ]
}